{
 "cells": [
  {
   "cell_type": "markdown",
   "id": "246be15c",
   "metadata": {},
   "source": [
    "# RAG (Retrieval-Augmented Generation) with LangChain\n",
    "\n",
    "This notebook demonstrates how to build a complete RAG pipeline using LangChain and Azure OpenAI. RAG enhances language model responses by retrieving relevant context from a knowledge base before generating answers.\n",
    "\n",
    "## Overview\n",
    "We'll cover the following steps:\n",
    "1. **Environment Setup**: Load API credentials\n",
    "2. **Initialize Embeddings**: Create an embedding model for converting text to vectors\n",
    "3. **Initialize LLM**: Set up the language model for generating responses\n",
    "4. **Create Vector Store**: Initialize an in-memory vector database\n",
    "5. **Load Documents**: Fetch and parse web content\n",
    "6. **Split Documents**: Break large documents into smaller chunks\n",
    "7. **Store Embeddings**: Add document chunks to the vector store\n",
    "8. **Create RAG Chain**: Build a retrieval-augmented generation workflow\n",
    "9. **Test the System**: Query the RAG system"
   ]
  },
  {
   "cell_type": "markdown",
   "id": "560722c4",
   "metadata": {},
   "source": [
    "## Step 1: Environment Setup and API Key Management\n",
    "\n",
    "This section handles the secure loading of API credentials:\n",
    "- **`load_dotenv()`**: Loads environment variables from a `.env` file if it exists in the project directory\n",
    "- **Security Best Practice**: Checks if the API key is already set in environment variables before prompting\n",
    "- **Interactive Prompt**: If the key isn't found, securely prompts the user to enter it (input will be hidden)\n",
    "- This approach works both in local development (with `.env` file) and in production (with system environment variables)"
   ]
  },
  {
   "cell_type": "code",
   "execution_count": 1,
   "id": "4740eb7c",
   "metadata": {},
   "outputs": [],
   "source": [
    "from dotenv import load_dotenv\n",
    "import getpass\n",
    "import os\n",
    "\n",
    "# Load environment variables from a .env file if present. This helps in local dev where env vars aren't set.\n",
    "load_dotenv()\n",
    "\n",
    "# Prompt for API key only if not present in environment variables after loading .env\n",
    "if not os.environ.get(\"AZURE_OPENAI_API_KEY\"):\n",
    "    os.environ[\"AZURE_OPENAI_API_KEY\"] = getpass.getpass(\"Enter your Azure OpenAI API key: \")"
   ]
  },
  {
   "cell_type": "markdown",
   "id": "7b6ef5ab",
   "metadata": {},
   "source": [
    "## Step 2: Initialize the Embedding Model\n",
    "\n",
    "**Embeddings** convert text into numerical vectors (arrays of numbers) that capture semantic meaning.\n",
    "\n",
    "### What's happening here:\n",
    "- **`AzureOpenAIEmbeddings`**: Creates an embeddings client connected to Azure OpenAI\n",
    "- **`text-embedding-ada-002`**: A powerful embedding model that converts text to 1536-dimensional vectors\n",
    "- **Purpose**: These embeddings will be used to:\n",
    "  1. Convert document chunks into vectors for storage\n",
    "  2. Convert user questions into vectors for similarity search\n",
    "  \n",
    "### Why embeddings matter in RAG:\n",
    "Similar concepts will have similar vector representations, allowing us to find relevant documents by comparing vector similarity rather than exact keyword matches."
   ]
  },
  {
   "cell_type": "code",
   "execution_count": 2,
   "id": "5ff693e5",
   "metadata": {},
   "outputs": [],
   "source": [
    "from langchain_openai import AzureOpenAIEmbeddings\n",
    "\n",
    "embeddings = AzureOpenAIEmbeddings(\n",
    "    azure_endpoint=\"https://aoi-ext-eus-aiml-profx-01.openai.azure.com/\",\n",
    "    api_key=os.environ[\"AZURE_OPENAI_API_KEY\"],\n",
    "    model=\"text-embedding-ada-002\",\n",
    "    api_version=\"2024-12-01-preview\"\n",
    ")"
   ]
  },
  {
   "cell_type": "markdown",
   "id": "8664fa6e",
   "metadata": {},
   "source": [
    "## Step 3: Initialize the Language Model (LLM)\n",
    "\n",
    "**Large Language Models (LLMs)** generate human-like text responses based on input prompts.\n",
    "\n",
    "### Configuration:\n",
    "- **`AzureChatOpenAI`**: Creates a chat-optimized LLM client\n",
    "- **`gpt-4o`**: The model deployment name (GPT-4 Optimized version)\n",
    "- **API Version**: Specifies the Azure OpenAI API version for compatibility\n",
    "\n",
    "### Role in RAG:\n",
    "The LLM will generate the final answer by:\n",
    "1. Receiving the user's question\n",
    "2. Receiving relevant context retrieved from the vector store\n",
    "3. Synthesizing a response that combines both"
   ]
  },
  {
   "cell_type": "code",
   "execution_count": 3,
   "id": "75519c8f",
   "metadata": {},
   "outputs": [],
   "source": [
    "from langchain_openai import AzureChatOpenAI\n",
    "\n",
    "llm = AzureChatOpenAI(\n",
    "    azure_endpoint=\"https://aoi-ext-eus-aiml-profx-01.openai.azure.com/\",\n",
    "    api_key=os.environ[\"AZURE_OPENAI_API_KEY\"],\n",
    "    model=\"gpt-4o\",\n",
    "    api_version=\"2024-12-01-preview\"\n",
    ")"
   ]
  },
  {
   "cell_type": "markdown",
   "id": "2866d905",
   "metadata": {},
   "source": [
    "## Step 4: Create the Vector Store\n",
    "\n",
    "**Vector Stores** (or Vector Databases) store document embeddings and enable fast similarity searches.\n",
    "\n",
    "### What is `InMemoryVectorStore`?\n",
    "- Stores vectors in RAM (not persisted to disk)\n",
    "- Fast for development and small datasets\n",
    "- Automatically uses the embeddings model we configured earlier\n",
    "\n",
    "### How it works:\n",
    "1. Documents are converted to embeddings using our embedding model\n",
    "2. Embeddings are stored along with the original text\n",
    "3. When queried, it finds the most similar vectors using cosine similarity or other distance metrics\n",
    "\n",
    "**Note**: For production use with large datasets, consider persistent vector stores like Chroma, Pinecone, or Azure AI Search."
   ]
  },
  {
   "cell_type": "code",
   "execution_count": 4,
   "id": "ee7fcbeb",
   "metadata": {},
   "outputs": [],
   "source": [
    "from langchain_core.vectorstores import InMemoryVectorStore\n",
    "\n",
    "vector_store = InMemoryVectorStore(embeddings)"
   ]
  },
  {
   "cell_type": "markdown",
   "id": "8240952f",
   "metadata": {},
   "source": [
    "## Step 5: Load Documents from the Web\n",
    "\n",
    "**Document Loading** is the first step in building a knowledge base for RAG.\n",
    "\n",
    "### Components:\n",
    "- **`WebBaseLoader`**: Fetches HTML content from web URLs\n",
    "- **`bs4.SoupStrainer`**: Filters HTML to keep only relevant content (removes navigation, footers, etc.)\n",
    "- **Target**: A blog post about AI agents from Lilian Weng's blog\n",
    "\n",
    "### The Process:\n",
    "1. **Fetch**: Download the HTML from the specified URL\n",
    "2. **Parse**: Use BeautifulSoup to extract only the content sections\n",
    "3. **Load**: Convert to LangChain document format\n",
    "\n",
    "### Why filter HTML?\n",
    "- Reduces noise (ads, navigation, comments)\n",
    "- Focuses on the main content\n",
    "- Improves embedding quality and retrieval accuracy\n",
    "\n",
    "**Result**: A single document containing the full blog post content."
   ]
  },
  {
   "cell_type": "code",
   "execution_count": 8,
   "id": "c2d6b4f4",
   "metadata": {},
   "outputs": [
    {
     "name": "stdout",
     "output_type": "stream",
     "text": [
      "Total characters: 43047\n"
     ]
    }
   ],
   "source": [
    "import bs4\n",
    "from langchain_community.document_loaders import WebBaseLoader\n",
    "\n",
    "# Only keep post title, headers, and content from the full HTML.\n",
    "bs4_strainer = bs4.SoupStrainer(class_=(\"post-title\", \"post-header\", \"post-content\"))\n",
    "loader = WebBaseLoader(\n",
    "    web_paths=(\"https://lilianweng.github.io/posts/2023-06-23-agent/\",),\n",
    "    bs_kwargs={\"parse_only\": bs4_strainer},\n",
    ")\n",
    "docs = loader.load()\n",
    "\n",
    "assert len(docs) == 1\n",
    "print(f\"Total characters: {len(docs[0].page_content)}\")"
   ]
  },
  {
   "cell_type": "markdown",
   "id": "ba81730a",
   "metadata": {},
   "source": [
    "## Step 6: Preview the Document Content\n",
    "\n",
    "Let's inspect the first 500 characters of the loaded document to verify the content was extracted correctly."
   ]
  },
  {
   "cell_type": "code",
   "execution_count": 9,
   "id": "fcb3167f",
   "metadata": {},
   "outputs": [
    {
     "name": "stdout",
     "output_type": "stream",
     "text": [
      "\n",
      "\n",
      "      LLM Powered Autonomous Agents\n",
      "    \n",
      "Date: June 23, 2023  |  Estimated Reading Time: 31 min  |  Author: Lilian Weng\n",
      "\n",
      "\n",
      "Building agents with LLM (large language model) as its core controller is a cool concept. Several proof-of-concepts demos, such as AutoGPT, GPT-Engineer and BabyAGI, serve as inspiring examples. The potentiality of LLM extends beyond generating well-written copies, stories, essays and programs; it can be framed as a powerful general problem solver.\n",
      "Agent System Overview#\n",
      "In\n"
     ]
    }
   ],
   "source": [
    "print(docs[0].page_content[:500])"
   ]
  },
  {
   "cell_type": "markdown",
   "id": "3889be67",
   "metadata": {},
   "source": [
    "## Step 7: Split Documents into Chunks\n",
    "\n",
    "**Why split documents?**\n",
    "- LLMs have context window limits (maximum input size)\n",
    "- Smaller chunks create more precise embeddings\n",
    "- Retrieval can target specific relevant sections instead of entire documents\n",
    "\n",
    "### Text Splitting Strategy:\n",
    "- **`chunk_size=1000`**: Each chunk is approximately 1000 characters\n",
    "- **`chunk_overlap=200`**: Consecutive chunks share 200 characters to maintain context continuity\n",
    "- **`add_start_index=True`**: Tracks where each chunk originated in the source document\n",
    "\n",
    "### The RecursiveCharacterTextSplitter:\n",
    "- Tries to split on natural boundaries (paragraphs, sentences, words)\n",
    "- Falls back to character-level splitting if needed\n",
    "- Preserves semantic coherence within chunks\n",
    "\n",
    "**Result**: The single large document is split into multiple smaller, manageable chunks."
   ]
  },
  {
   "cell_type": "code",
   "execution_count": 10,
   "id": "d8785697",
   "metadata": {},
   "outputs": [
    {
     "name": "stdout",
     "output_type": "stream",
     "text": [
      "Split blog post into 63 sub-documents.\n"
     ]
    }
   ],
   "source": [
    "from langchain_text_splitters import RecursiveCharacterTextSplitter\n",
    "\n",
    "text_splitter = RecursiveCharacterTextSplitter(\n",
    "    chunk_size=1000,  # chunk size (characters)\n",
    "    chunk_overlap=200,  # chunk overlap (characters)\n",
    "    add_start_index=True,  # track index in original document\n",
    ")\n",
    "all_splits = text_splitter.split_documents(docs)\n",
    "\n",
    "print(f\"Split blog post into {len(all_splits)} sub-documents.\")"
   ]
  },
  {
   "cell_type": "markdown",
   "id": "3cb67b97",
   "metadata": {},
   "source": [
    "## Step 8: Add Documents to Vector Store\n",
    "\n",
    "**Indexing** the documents by converting them to embeddings and storing them.\n",
    "\n",
    "### What happens in `add_documents()`:\n",
    "1. Each document chunk is sent to the embedding model\n",
    "2. The embedding model returns a vector (array of numbers) for each chunk\n",
    "3. The vector store saves both the embedding and the original text\n",
    "4. Returns unique IDs for each stored document\n",
    "\n",
    "### The Magic:\n",
    "- Documents with similar semantic meaning will have similar embedding vectors\n",
    "- When we later search with a question, the vector store can find chunks with similar embeddings\n",
    "- This enables **semantic search** (meaning-based) rather than keyword matching\n",
    "\n",
    "**Output**: A list of document IDs confirming successful storage."
   ]
  },
  {
   "cell_type": "code",
   "execution_count": 11,
   "id": "9260a14e",
   "metadata": {},
   "outputs": [
    {
     "name": "stdout",
     "output_type": "stream",
     "text": [
      "['a361d3ea-5100-4367-a7bb-1138cc2149b8', 'f611aa8d-592f-4743-b2bd-17a844d7f3c9', 'df610398-ece3-43d3-b5c6-a3f830a97373']\n"
     ]
    }
   ],
   "source": [
    "document_ids = vector_store.add_documents(documents=all_splits)\n",
    "\n",
    "print(document_ids[:3])"
   ]
  },
  {
   "cell_type": "markdown",
   "id": "d2702440",
   "metadata": {},
   "source": [
    "## Step 9: Load the RAG Prompt Template\n",
    "\n",
    "**Prompt Engineering** is crucial for effective RAG systems.\n",
    "\n",
    "### What is `hub.pull()`?\n",
    "- Loads a pre-built prompt template from LangChain Hub (a repository of community prompts)\n",
    "- **`\"rlm/rag-prompt\"`**: A well-tested RAG prompt template\n",
    "\n",
    "### The RAG Prompt Structure:\n",
    "The template instructs the LLM to:\n",
    "1. Use the provided context to answer the question\n",
    "2. Say \"I don't know\" if the context doesn't contain the answer\n",
    "3. Keep answers concise and grounded in the context\n",
    "\n",
    "### Why use a template?\n",
    "- Consistent response quality\n",
    "- Reduces hallucinations (making up information)\n",
    "- Ensures the LLM leverages the retrieved context effectively\n",
    "\n",
    "**Preview**: We can see how the template formats the context and question."
   ]
  },
  {
   "cell_type": "code",
   "execution_count": 12,
   "id": "c80fa721",
   "metadata": {},
   "outputs": [
    {
     "name": "stdout",
     "output_type": "stream",
     "text": [
      "You are an assistant for question-answering tasks. Use the following pieces of retrieved context to answer the question. If you don't know the answer, just say that you don't know. Use three sentences maximum and keep the answer concise.\n",
      "Question: (question goes here) \n",
      "Context: (context goes here) \n",
      "Answer:\n"
     ]
    }
   ],
   "source": [
    "from langchain import hub\n",
    "\n",
    "# N.B. for non-US LangSmith endpoints, you may need to specify\n",
    "# api_url=\"https://api.smith.langchain.com\" in hub.pull.\n",
    "prompt = hub.pull(\"rlm/rag-prompt\")\n",
    "\n",
    "example_messages = prompt.invoke(\n",
    "    {\"context\": \"(context goes here)\", \"question\": \"(question goes here)\"}\n",
    ").to_messages()\n",
    "\n",
    "assert len(example_messages) == 1\n",
    "print(example_messages[0].content)"
   ]
  },
  {
   "cell_type": "markdown",
   "id": "c11a983b",
   "metadata": {},
   "source": [
    "## Step 10: Define the State Schema\n",
    "\n",
    "**State Management** for our RAG workflow using TypedDict.\n",
    "\n",
    "### What is State?\n",
    "A structured data container that flows through our RAG pipeline:\n",
    "- **`question`**: The user's input query (str)\n",
    "- **`context`**: Retrieved documents relevant to the question (List[Document])\n",
    "- **`answer`**: The LLM's generated response (str)\n",
    "\n",
    "### Why define State?\n",
    "- **Type Safety**: Ensures each step receives and returns the correct data types\n",
    "- **Clarity**: Makes the data flow explicit and easier to debug\n",
    "- **LangGraph Integration**: LangGraph uses this schema to manage state between nodes\n",
    "\n",
    "This will be used in the next steps to build a stateful workflow graph."
   ]
  },
  {
   "cell_type": "code",
   "execution_count": 13,
   "id": "01d9e163",
   "metadata": {},
   "outputs": [],
   "source": [
    "from langchain_core.documents import Document\n",
    "from typing_extensions import List, TypedDict\n",
    "\n",
    "\n",
    "class State(TypedDict):\n",
    "    question: str\n",
    "    context: List[Document]\n",
    "    answer: str"
   ]
  },
  {
   "cell_type": "markdown",
   "id": "19fec75b",
   "metadata": {},
   "source": [
    "## Step 11: Define RAG Workflow Functions\n",
    "\n",
    "**The two core functions of the RAG pipeline:**\n",
    "\n",
    "### 1. `retrieve(state)` - Retrieval Step\n",
    "- **Input**: Takes the current state (containing the question)\n",
    "- **Process**: \n",
    "  - Converts the question to an embedding\n",
    "  - Searches the vector store for similar document chunks\n",
    "  - Uses cosine similarity to find the most relevant documents\n",
    "- **Output**: Updates state with `context` (list of retrieved documents)\n",
    "\n",
    "### 2. `generate(state)` - Generation Step\n",
    "- **Input**: Takes the state (containing question and context)\n",
    "- **Process**:\n",
    "  - Combines all retrieved document content into a single string\n",
    "  - Formats the prompt with the question and context\n",
    "  - Sends to the LLM for answer generation\n",
    "- **Output**: Updates state with `answer` (the LLM's response)\n",
    "\n",
    "### The RAG Flow:\n",
    "**Question → Retrieve Context → Generate Answer**"
   ]
  },
  {
   "cell_type": "code",
   "execution_count": 14,
   "id": "74d2ad6b",
   "metadata": {},
   "outputs": [],
   "source": [
    "def retrieve(state: State):\n",
    "    retrieved_docs = vector_store.similarity_search(state[\"question\"])\n",
    "    return {\"context\": retrieved_docs}\n",
    "\n",
    "\n",
    "def generate(state: State):\n",
    "    docs_content = \"\\n\\n\".join(doc.page_content for doc in state[\"context\"])\n",
    "    messages = prompt.invoke({\"question\": state[\"question\"], \"context\": docs_content})\n",
    "    response = llm.invoke(messages)\n",
    "    return {\"answer\": response.content}"
   ]
  },
  {
   "cell_type": "markdown",
   "id": "568c2818",
   "metadata": {},
   "source": [
    "## Step 12: Build the RAG Graph with LangGraph\n",
    "\n",
    "**LangGraph** creates a stateful, directed workflow for our RAG pipeline.\n",
    "\n",
    "### Graph Construction:\n",
    "1. **`StateGraph(State)`**: Initialize a graph that manages our State schema\n",
    "2. **`add_sequence([retrieve, generate])`**: Chain the functions sequentially\n",
    "   - First: `retrieve` gets relevant documents\n",
    "   - Then: `generate` creates the answer\n",
    "3. **`add_edge(START, \"retrieve\")`**: Define the entry point (start with retrieval)\n",
    "4. **`compile()`**: Build the executable graph\n",
    "\n",
    "### Benefits of LangGraph:\n",
    "- **State Persistence**: Automatically passes state between nodes\n",
    "- **Debugging**: Can visualize and trace the workflow\n",
    "- **Flexibility**: Easy to add steps (e.g., query rewriting, re-ranking)\n",
    "- **Streaming**: Can stream intermediate results\n",
    "\n",
    "**Result**: A compiled graph ready to process questions through the RAG pipeline."
   ]
  },
  {
   "cell_type": "code",
   "execution_count": 15,
   "id": "0d3634d0",
   "metadata": {},
   "outputs": [],
   "source": [
    "from langgraph.graph import START, StateGraph\n",
    "\n",
    "graph_builder = StateGraph(State).add_sequence([retrieve, generate])\n",
    "graph_builder.add_edge(START, \"retrieve\")\n",
    "graph = graph_builder.compile()"
   ]
  },
  {
   "cell_type": "markdown",
   "id": "6e75be48",
   "metadata": {},
   "source": [
    "## Step 13: Visualize the Workflow Graph\n",
    "\n",
    "**Visual Representation** of our RAG pipeline using Mermaid diagrams.\n",
    "\n",
    "### What to Expect:\n",
    "The diagram will show:\n",
    "- **Nodes**: Each step in the workflow (`retrieve`, `generate`)\n",
    "- **Edges**: The flow of data between steps\n",
    "- **Entry Point**: Where the workflow starts\n",
    "- **End Point**: Where it completes\n",
    "\n",
    "This visualization helps understand the execution flow and is useful for:\n",
    "- Debugging complex workflows\n",
    "- Documentation and team communication\n",
    "- Identifying optimization opportunities"
   ]
  },
  {
   "cell_type": "code",
   "execution_count": 16,
   "id": "23b83866",
   "metadata": {},
   "outputs": [
    {
     "data": {
      "image/png": "[encoded data removed]",
      "text/plain": [
       "<IPython.core.display.Image object>"
      ]
     },
     "metadata": {},
     "output_type": "display_data"
    }
   ],
   "source": [
    "from IPython.display import Image, display\n",
    "\n",
    "display(Image(graph.get_graph().draw_mermaid_png()))"
   ]
  },
  {
   "cell_type": "markdown",
   "id": "adf536f1",
   "metadata": {},
   "source": [
    "## Step 14: Test the RAG System\n",
    "\n",
    "**First Query** - Testing the complete pipeline with a sample question.\n",
    "\n",
    "### Execution Flow:\n",
    "1. **Input**: `{\"question\": \"What is Task Decomposition?\"}`\n",
    "2. **Retrieve Step**: \n",
    "   - Converts question to embedding\n",
    "   - Finds most similar document chunks from the blog post\n",
    "   - Returns relevant context about task decomposition\n",
    "3. **Generate Step**:\n",
    "   - Formats prompt with question + retrieved context\n",
    "   - LLM generates answer based on the context\n",
    "4. **Output**: Complete result with context and answer\n",
    "\n",
    "### Expected Result:\n",
    "- **Context**: The actual document chunks retrieved from the vector store\n",
    "- **Answer**: A concise explanation of Task Decomposition based on the blog content"
   ]
  },
  {
   "cell_type": "code",
   "execution_count": 17,
   "id": "fb3611d8",
   "metadata": {},
   "outputs": [
    {
     "name": "stdout",
     "output_type": "stream",
     "text": [
      "Context: [Document(id='df610398-ece3-43d3-b5c6-a3f830a97373', metadata={'source': 'https://lilianweng.github.io/posts/2023-06-23-agent/', 'start_index': 1638}, page_content='Component One: Planning#\\nA complicated task usually involves many steps. An agent needs to know what they are and plan ahead.\\nTask Decomposition#\\nChain of thought (CoT; Wei et al. 2022) has become a standard prompting technique for enhancing model performance on complex tasks. The model is instructed to “think step by step” to utilize more test-time computation to decompose hard tasks into smaller and simpler steps. CoT transforms big tasks into multiple manageable tasks and shed lights into an interpretation of the model’s thinking process.\\nTree of Thoughts (Yao et al. 2023) extends CoT by exploring multiple reasoning possibilities at each step. It first decomposes the problem into multiple thought steps and generates multiple thoughts per step, creating a tree structure. The search process can be BFS (breadth-first search) or DFS (depth-first search) with each state evaluated by a classifier (via a prompt) or majority vote.'), Document(id='9b9d67d8-3ccf-47b2-93d8-3e015f690bc8', metadata={'source': 'https://lilianweng.github.io/posts/2023-06-23-agent/'}, page_content='Component One: Planning#\\nA complicated task usually involves many steps. An agent needs to know what they are and plan ahead.\\nTask Decomposition#\\nChain of thought (CoT; Wei et al. 2022) has become a standard prompting technique for enhancing model performance on complex tasks. The model is instructed to “think step by step” to utilize more test-time computation to decompose hard tasks into smaller and simpler steps. CoT transforms big tasks into multiple manageable tasks and shed lights into an interpretation of the model’s thinking process.\\nTree of Thoughts (Yao et al. 2023) extends CoT by exploring multiple reasoning possibilities at each step. It first decomposes the problem into multiple thought steps and generates multiple thoughts per step, creating a tree structure. The search process can be BFS (breadth-first search) or DFS (depth-first search) with each state evaluated by a classifier (via a prompt) or majority vote.'), Document(id='80754bdf-90c9-4ab0-a545-b361e7853d36', metadata={'source': 'https://lilianweng.github.io/posts/2023-06-23-agent/'}, page_content='Task decomposition can be done (1) by LLM with simple prompting like \"Steps for XYZ.\\\\n1.\", \"What are the subgoals for achieving XYZ?\", (2) by using task-specific instructions; e.g. \"Write a story outline.\" for writing a novel, or (3) with human inputs.\\nAnother quite distinct approach, LLM+P (Liu et al. 2023), involves relying on an external classical planner to do long-horizon planning. This approach utilizes the Planning Domain Definition Language (PDDL) as an intermediate interface to describe the planning problem. In this process, LLM (1) translates the problem into “Problem PDDL”, then (2) requests a classical planner to generate a PDDL plan based on an existing “Domain PDDL”, and finally (3) translates the PDDL plan back into natural language. Essentially, the planning step is outsourced to an external tool, assuming the availability of domain-specific PDDL and a suitable planner which is common in certain robotic setups but not in many other domains.\\nSelf-Reflection#'), Document(id='28cae412-f5fe-45ea-8bbf-a503b40b60da', metadata={'source': 'https://lilianweng.github.io/posts/2023-06-23-agent/', 'start_index': 2578}, page_content='Task decomposition can be done (1) by LLM with simple prompting like \"Steps for XYZ.\\\\n1.\", \"What are the subgoals for achieving XYZ?\", (2) by using task-specific instructions; e.g. \"Write a story outline.\" for writing a novel, or (3) with human inputs.\\nAnother quite distinct approach, LLM+P (Liu et al. 2023), involves relying on an external classical planner to do long-horizon planning. This approach utilizes the Planning Domain Definition Language (PDDL) as an intermediate interface to describe the planning problem. In this process, LLM (1) translates the problem into “Problem PDDL”, then (2) requests a classical planner to generate a PDDL plan based on an existing “Domain PDDL”, and finally (3) translates the PDDL plan back into natural language. Essentially, the planning step is outsourced to an external tool, assuming the availability of domain-specific PDDL and a suitable planner which is common in certain robotic setups but not in many other domains.\\nSelf-Reflection#')]\n",
      "\n",
      "\n",
      "Answer: Task decomposition is the process of breaking down a complex task into smaller, simpler steps or subgoals to make it more manageable. Techniques like Chain of Thought (CoT) and Tree of Thoughts (ToT) employ structured reasoning to facilitate decomposition, while tools like LLM+P use external planners for long-horizon tasks. It can be done using prompts, task-specific instructions, or human inputs.\n"
     ]
    }
   ],
   "source": [
    "result = graph.invoke({\"question\": \"What is Task Decomposition?\"})\n",
    "\n",
    "print(f\"Context: {result['context']}\\n\\n\")\n",
    "print(f\"Answer: {result['answer']}\")"
   ]
  },
  {
   "cell_type": "markdown",
   "id": "ace95300",
   "metadata": {},
   "source": [
    "## Step 15: Stream the Workflow Updates\n",
    "\n",
    "**Streaming Mode: Updates** - Observe each step of the workflow as it executes.\n",
    "\n",
    "### What is `stream_mode=\"updates\"`?\n",
    "- Shows the state changes after each node completes\n",
    "- Provides visibility into the pipeline execution\n",
    "- Useful for debugging and understanding the workflow\n",
    "\n",
    "### Output Format:\n",
    "You'll see two updates:\n",
    "1. **After `retrieve`**: Shows the retrieved context documents\n",
    "2. **After `generate`**: Shows the generated answer\n",
    "\n",
    "This is helpful for:\n",
    "- **Debugging**: Identify which step is slow or failing\n",
    "- **Validation**: Verify the right documents are being retrieved\n",
    "- **Monitoring**: Track progress in real-time applications"
   ]
  },
  {
   "cell_type": "code",
   "execution_count": 18,
   "id": "ccd27f81",
   "metadata": {},
   "outputs": [
    {
     "name": "stdout",
     "output_type": "stream",
     "text": [
      "{'retrieve': {'context': [Document(id='df610398-ece3-43d3-b5c6-a3f830a97373', metadata={'source': 'https://lilianweng.github.io/posts/2023-06-23-agent/', 'start_index': 1638}, page_content='Component One: Planning#\\nA complicated task usually involves many steps. An agent needs to know what they are and plan ahead.\\nTask Decomposition#\\nChain of thought (CoT; Wei et al. 2022) has become a standard prompting technique for enhancing model performance on complex tasks. The model is instructed to “think step by step” to utilize more test-time computation to decompose hard tasks into smaller and simpler steps. CoT transforms big tasks into multiple manageable tasks and shed lights into an interpretation of the model’s thinking process.\\nTree of Thoughts (Yao et al. 2023) extends CoT by exploring multiple reasoning possibilities at each step. It first decomposes the problem into multiple thought steps and generates multiple thoughts per step, creating a tree structure. The search process can be BFS (breadth-first search) or DFS (depth-first search) with each state evaluated by a classifier (via a prompt) or majority vote.'), Document(id='9b9d67d8-3ccf-47b2-93d8-3e015f690bc8', metadata={'source': 'https://lilianweng.github.io/posts/2023-06-23-agent/'}, page_content='Component One: Planning#\\nA complicated task usually involves many steps. An agent needs to know what they are and plan ahead.\\nTask Decomposition#\\nChain of thought (CoT; Wei et al. 2022) has become a standard prompting technique for enhancing model performance on complex tasks. The model is instructed to “think step by step” to utilize more test-time computation to decompose hard tasks into smaller and simpler steps. CoT transforms big tasks into multiple manageable tasks and shed lights into an interpretation of the model’s thinking process.\\nTree of Thoughts (Yao et al. 2023) extends CoT by exploring multiple reasoning possibilities at each step. It first decomposes the problem into multiple thought steps and generates multiple thoughts per step, creating a tree structure. The search process can be BFS (breadth-first search) or DFS (depth-first search) with each state evaluated by a classifier (via a prompt) or majority vote.'), Document(id='80754bdf-90c9-4ab0-a545-b361e7853d36', metadata={'source': 'https://lilianweng.github.io/posts/2023-06-23-agent/'}, page_content='Task decomposition can be done (1) by LLM with simple prompting like \"Steps for XYZ.\\\\n1.\", \"What are the subgoals for achieving XYZ?\", (2) by using task-specific instructions; e.g. \"Write a story outline.\" for writing a novel, or (3) with human inputs.\\nAnother quite distinct approach, LLM+P (Liu et al. 2023), involves relying on an external classical planner to do long-horizon planning. This approach utilizes the Planning Domain Definition Language (PDDL) as an intermediate interface to describe the planning problem. In this process, LLM (1) translates the problem into “Problem PDDL”, then (2) requests a classical planner to generate a PDDL plan based on an existing “Domain PDDL”, and finally (3) translates the PDDL plan back into natural language. Essentially, the planning step is outsourced to an external tool, assuming the availability of domain-specific PDDL and a suitable planner which is common in certain robotic setups but not in many other domains.\\nSelf-Reflection#'), Document(id='28cae412-f5fe-45ea-8bbf-a503b40b60da', metadata={'source': 'https://lilianweng.github.io/posts/2023-06-23-agent/', 'start_index': 2578}, page_content='Task decomposition can be done (1) by LLM with simple prompting like \"Steps for XYZ.\\\\n1.\", \"What are the subgoals for achieving XYZ?\", (2) by using task-specific instructions; e.g. \"Write a story outline.\" for writing a novel, or (3) with human inputs.\\nAnother quite distinct approach, LLM+P (Liu et al. 2023), involves relying on an external classical planner to do long-horizon planning. This approach utilizes the Planning Domain Definition Language (PDDL) as an intermediate interface to describe the planning problem. In this process, LLM (1) translates the problem into “Problem PDDL”, then (2) requests a classical planner to generate a PDDL plan based on an existing “Domain PDDL”, and finally (3) translates the PDDL plan back into natural language. Essentially, the planning step is outsourced to an external tool, assuming the availability of domain-specific PDDL and a suitable planner which is common in certain robotic setups but not in many other domains.\\nSelf-Reflection#')]}}\n",
      "\n",
      "----------------\n",
      "\n",
      "{'generate': {'answer': 'Task decomposition is the process of breaking down a complex task into smaller, manageable steps or subgoals. It can be facilitated through techniques like Chain of Thought (CoT) prompting or external methods like classical planning via Planning Domain Definition Language (PDDL). This approach helps enhance problem-solving by structuring tasks into clearer, more actionable units.'}}\n",
      "\n",
      "----------------\n",
      "\n"
     ]
    }
   ],
   "source": [
    "for step in graph.stream(\n",
    "    {\"question\": \"What is Task Decomposition?\"}, stream_mode=\"updates\"\n",
    "):\n",
    "    print(f\"{step}\\n\\n----------------\\n\")"
   ]
  },
  {
   "cell_type": "markdown",
   "id": "80f75cd5",
   "metadata": {},
   "source": [
    "## Step 16: Stream LLM Messages (Token-by-Token)\n",
    "\n",
    "**Streaming Mode: Messages** - Watch the LLM generate the response in real-time.\n",
    "\n",
    "### What is `stream_mode=\"messages\"`?\n",
    "- Streams individual messages/tokens as they're generated by the LLM\n",
    "- Shows the answer being constructed incrementally\n",
    "- Similar to how ChatGPT displays responses word-by-word\n",
    "\n",
    "### Use Cases:\n",
    "- **User Experience**: Display progressive responses in chat interfaces\n",
    "- **Real-time Feedback**: Users see that processing is happening\n",
    "- **Early Termination**: Can stop generation if the answer is sufficient\n",
    "\n",
    "### Output:\n",
    "- Each token/chunk of the LLM response is printed as it's generated\n",
    "- The `|` separator shows where each chunk ends\n",
    "- This demonstrates the streaming capability for production applications"
   ]
  },
  {
   "cell_type": "code",
   "execution_count": 19,
   "id": "2482e0fe",
   "metadata": {},
   "outputs": [
    {
     "name": "stdout",
     "output_type": "stream",
     "text": [
      "||Task| decomposition| involves| breaking| down| complex| tasks| into| smaller|,| simpler|,| and| manageable| subt|asks|.| Techniques| like| Chain| of| Thought| (|Co|T|)| and| Tree| of| Thoughts| (|To|T|)| enhance| this| process| by| encouraging| step|-by|-step| reasoning| or| exploring| multiple| possibilities|.| De|composition| can| be| done| with| L|LM| prompts|,| human| inputs|,| task|-specific| instructions|,| or| external| planning| tools| like| P|DDL| for| detailed| planning|.|||"
     ]
    }
   ],
   "source": [
    "for message, metadata in graph.stream(\n",
    "    {\"question\": \"What is Task Decomposition?\"}, stream_mode=\"messages\"\n",
    "):\n",
    "    print(message.content, end=\"|\")"
   ]
  }
 ],
 "metadata": {
  "kernelspec": {
   "display_name": ".venv-module03",
   "language": "python",
   "name": "python3"
  },
  "language_info": {
   "codemirror_mode": {
    "name": "ipython",
    "version": 3
   },
   "file_extension": ".py",
   "mimetype": "text/x-python",
   "name": "python",
   "nbconvert_exporter": "python",
   "pygments_lexer": "ipython3",
   "version": "3.13.7"
  }
 },
 "nbformat": 4,
 "nbformat_minor": 5
}
