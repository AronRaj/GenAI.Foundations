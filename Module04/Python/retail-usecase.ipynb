{
 "cells": [
  {
   "cell_type": "markdown",
   "id": "54e52cc5",
   "metadata": {},
   "source": [
    "# Last-Mile Delivery Optimizer with LangGraph\n",
    "\n",
    "This notebook demonstrates a sophisticated **Last-Mile Delivery Optimizer** using **LangGraph** and **RAG (Retrieval-Augmented Generation)** to create an intelligent delivery management system.\n",
    "\n",
    "## Use Case Overview: Last-Mile Delivery Optimizer\n",
    "\n",
    "### The Challenge\n",
    "Last-mile delivery is one of the most complex and expensive parts of the supply chain. It involves:\n",
    "- **Dynamic Route Planning**: Real-time optimization based on traffic, weather, and delivery priorities\n",
    "- **Customer Communication**: Proactive updates about delivery status and ETAs\n",
    "- **Priority Management**: Handling high-value orders, time-sensitive deliveries, and customer complaints\n",
    "- **Real-time Adaptation**: Responding to delays, traffic incidents, and customer requests\n",
    "\n",
    "### RAG Components\n",
    "Our system pulls information from multiple data sources:\n",
    "- **📅 Delivery Schedules**: Current routes, delivery windows, and driver assignments\n",
    "- **🚦 Traffic Data**: Real-time traffic conditions, road closures, and optimal routes\n",
    "- **💬 Customer Feedback**: Recent delivery reviews, complaints, and special requests\n",
    "- **📊 Historical Data**: Past delivery performance, common delay patterns, and optimization opportunities\n",
    "\n",
    "### Agentic Behavior\n",
    "The system acts autonomously to:\n",
    "- **🔄 Dynamic Replanning**: Automatically adjusts routes based on real-time conditions\n",
    "- **⚡ Priority Optimization**: Identifies and prioritizes high-value or delayed orders\n",
    "- **📱 Customer Communication**: Generates and sends proactive ETA updates and delay notifications\n",
    "- **🎯 Performance Optimization**: Learns from past deliveries to improve future routing\n",
    "\n",
    "## What We'll Build\n",
    "\n",
    "We'll create two different approaches:\n",
    "1. **Custom LangGraph Delivery System**: A manually constructed workflow with specialized delivery tools\n",
    "2. **ReAct Delivery Agent**: A reasoning-and-acting agent for complex delivery scenarios\n",
    "\n",
    "## Key Technologies Used\n",
    "- **LangGraph**: For building stateful, multi-step delivery workflows\n",
    "- **Azure OpenAI**: For embeddings and chat completion\n",
    "- **Vector Search**: For semantic retrieval of delivery data\n",
    "- **Memory/Persistence**: For maintaining delivery context across sessions"
   ]
  },
  {
   "cell_type": "markdown",
   "id": "e2c1d48d",
   "metadata": {},
   "source": [
    "## Step 1: Environment Setup and API Key Management\n",
    "\n",
    "### Your Task:\n",
    "Set up environment variables for Azure OpenAI API access.\n",
    "\n",
    "**Steps:**\n",
    "1. Import required modules: `load_dotenv`, `getpass`, and `os`\n",
    "2. Load environment variables from `.env` file\n",
    "3. Check for API key and prompt if not found\n",
    "\n",
    "**Expected Output:** Secure API key setup for the delivery optimization system"
   ]
  },
  {
   "cell_type": "code",
   "execution_count": null,
   "id": "a68b9b32",
   "metadata": {},
   "outputs": [],
   "source": [
    "# TODO: Import required modules for environment setup\n",
    "\n",
    "\n",
    "# TODO: Load environment variables and check for API key"
   ]
  },
  {
   "cell_type": "markdown",
   "id": "48f4348d",
   "metadata": {},
   "source": [
    "## Step 2: Initialize Azure OpenAI Components\n",
    "\n",
    "### Your Task:\n",
    "Set up the embedding model and language model for the delivery system.\n",
    "\n",
    "**Steps:**\n",
    "1. Import `AzureOpenAIEmbeddings` and `AzureChatOpenAI` from `langchain_openai`\n",
    "2. Create embeddings instance with text-embedding-ada-002 model\n",
    "3. Create LLM instance with gpt-4o model\n",
    "\n",
    "**Expected Output:** Configured Azure OpenAI components for the delivery optimizer"
   ]
  },
  {
   "cell_type": "code",
   "execution_count": null,
   "id": "33aff592",
   "metadata": {},
   "outputs": [],
   "source": [
    "# TODO: Import Azure OpenAI components\n",
    "\n",
    "\n",
    "# TODO: Create embeddings instance\n",
    "\n",
    "\n",
    "# TODO: Create LLM instance"
   ]
  },
  {
   "cell_type": "markdown",
   "id": "dacb0fb6",
   "metadata": {},
   "source": [
    "## Step 3: Create Sample Delivery Data\n",
    "\n",
    "### Your Task:\n",
    "Generate realistic delivery data for the optimization system.\n",
    "\n",
    "**Steps:**\n",
    "1. Create delivery schedules with routes, time windows, and priorities\n",
    "2. Generate traffic data with conditions and estimated delays\n",
    "3. Create customer feedback data with ratings and comments\n",
    "4. Generate performance metrics for historical analysis\n",
    "\n",
    "### Data Structure:\n",
    "- **Delivery Schedules**: Route ID, destination, time window, priority, driver\n",
    "- **Traffic Data**: Route segment, current conditions, estimated delay\n",
    "- **Customer Feedback**: Delivery ID, rating, comments, date\n",
    "- **Performance Data**: Historical metrics, completion rates, average delays\n",
    "\n",
    "**Expected Output:** Comprehensive delivery dataset for testing the optimizer"
   ]
  },
  {
   "cell_type": "code",
   "execution_count": null,
   "id": "7d62f057",
   "metadata": {},
   "outputs": [],
   "source": [
    "# TODO: Create delivery schedules data\n",
    "delivery_schedules = [\n",
    "    # Add sample delivery schedule data\n",
    "    # Include: route_id, destination, time_window, priority, driver, status\n",
    "]\n",
    "\n",
    "# TODO: Create traffic data\n",
    "traffic_data = [\n",
    "    # Add sample traffic data\n",
    "    # Include: route_segment, conditions, estimated_delay, alternative_routes\n",
    "]\n",
    "\n",
    "# TODO: Create customer feedback data\n",
    "customer_feedback = [\n",
    "    # Add sample customer feedback\n",
    "    # Include: delivery_id, rating, comments, date, delivery_time\n",
    "]\n",
    "\n",
    "# TODO: Create performance data\n",
    "performance_data = [\n",
    "    # Add sample performance metrics\n",
    "    # Include: date, total_deliveries, on_time_rate, avg_delay, customer_satisfaction\n",
    "]\n",
    "\n",
    "# TODO: Print summary of created data"
   ]
  },
  {
   "cell_type": "markdown",
   "id": "1b6939de",
   "metadata": {},
   "source": [
    "## Step 4: Create Document Store for RAG\n",
    "\n",
    "### Your Task:\n",
    "Convert the delivery data into documents for vector storage and retrieval.\n",
    "\n",
    "**Steps:**\n",
    "1. Import `Document` from `langchain_core.documents` and `InMemoryVectorStore` from `langchain_core.vectorstores`\n",
    "2. Convert each data type into Document objects with appropriate metadata\n",
    "3. Create a vector store and add all documents\n",
    "4. Test retrieval with a sample query\n",
    "\n",
    "### Document Creation Strategy:\n",
    "- **Content**: Structured text describing each data point\n",
    "- **Metadata**: Include data type, timestamps, and key identifiers\n",
    "- **Searchability**: Format content for semantic search\n",
    "\n",
    "**Expected Output:** A searchable knowledge base of delivery data"
   ]
  },
  {
   "cell_type": "code",
   "execution_count": null,
   "id": "d304456e",
   "metadata": {},
   "outputs": [],
   "source": [
    "# TODO: Import Document and InMemoryVectorStore\n",
    "\n",
    "\n",
    "# TODO: Convert data to Document objects\n",
    "\n",
    "\n",
    "# TODO: Create vector store and add documents\n",
    "\n",
    "\n",
    "# TODO: Test retrieval with a sample query"
   ]
  },
  {
   "cell_type": "markdown",
   "id": "998e3a66",
   "metadata": {},
   "source": [
    "## Step 5: Create Specialized Delivery Tools\n",
    "\n",
    "### Your Task:\n",
    "Build specialized tools for different aspects of delivery optimization.\n",
    "\n",
    "**Steps:**\n",
    "1. Import the `tool` decorator from `langchain_core.tools`\n",
    "2. Create four specialized tools:\n",
    "   - `get_delivery_schedules`: Retrieve current delivery schedules\n",
    "   - `get_traffic_info`: Get real-time traffic conditions\n",
    "   - `get_customer_feedback`: Access customer feedback and complaints\n",
    "   - `get_performance_data`: Retrieve historical performance metrics\n",
    "\n",
    "### Tool Design Principles:\n",
    "- **Specific Purpose**: Each tool handles one type of data\n",
    "- **Semantic Search**: Use vector similarity for relevant results\n",
    "- **Rich Context**: Return comprehensive information\n",
    "- **Error Handling**: Graceful handling of empty results\n",
    "\n",
    "**Expected Output:** Four specialized tools ready for the delivery agent"
   ]
  },
  {
   "cell_type": "code",
   "execution_count": null,
   "id": "8cb1aa95",
   "metadata": {},
   "outputs": [],
   "source": [
    "# TODO: Import the tool decorator\n",
    "\n",
    "\n",
    "# TODO: Create get_delivery_schedules tool\n",
    "@tool\n",
    "def get_delivery_schedules(query: str) -> str:\n",
    "    \"\"\"Get current delivery schedules and route information.\n",
    "    \n",
    "    Args:\n",
    "        query: Description of the delivery information needed\n",
    "    \n",
    "    Returns:\n",
    "        Current delivery schedules matching the query\n",
    "    \"\"\"\n",
    "    # TODO: Implement delivery schedule retrieval\n",
    "    pass\n",
    "\n",
    "# TODO: Create get_traffic_info tool\n",
    "@tool\n",
    "def get_traffic_info(query: str) -> str:\n",
    "    \"\"\"Get real-time traffic conditions and route optimization data.\n",
    "    \n",
    "    Args:\n",
    "        query: Description of the traffic information needed\n",
    "    \n",
    "    Returns:\n",
    "        Traffic conditions and route recommendations\n",
    "    \"\"\"\n",
    "    # TODO: Implement traffic info retrieval\n",
    "    pass\n",
    "\n",
    "# TODO: Create get_customer_feedback tool\n",
    "@tool\n",
    "def get_customer_feedback(query: str) -> str:\n",
    "    \"\"\"Get customer feedback, complaints, and delivery reviews.\n",
    "    \n",
    "    Args:\n",
    "        query: Description of the customer feedback needed\n",
    "    \n",
    "    Returns:\n",
    "        Relevant customer feedback and reviews\n",
    "    \"\"\"\n",
    "    # TODO: Implement customer feedback retrieval\n",
    "    pass\n",
    "\n",
    "# TODO: Create get_performance_data tool\n",
    "@tool\n",
    "def get_performance_data(query: str) -> str:\n",
    "    \"\"\"Get historical delivery performance metrics and analytics.\n",
    "    \n",
    "    Args:\n",
    "        query: Description of the performance data needed\n",
    "    \n",
    "    Returns:\n",
    "        Historical performance metrics and trends\n",
    "    \"\"\"\n",
    "    # TODO: Implement performance data retrieval\n",
    "    pass\n",
    "\n",
    "# TODO: Test each tool with sample queries"
   ]
  },
  {
   "cell_type": "markdown",
   "id": "5550c780",
   "metadata": {},
   "source": [
    "## Step 6: Build Custom Delivery Graph\n",
    "\n",
    "### Your Task:\n",
    "Create a custom LangGraph workflow specifically designed for delivery optimization.\n",
    "\n",
    "**Steps:**\n",
    "1. Import LangGraph components: `StateGraph`, `END`, `MessagesState`, `ToolNode`\n",
    "2. Import `SystemMessage` from `langchain_core.messages`\n",
    "3. Create a delivery tools list\n",
    "4. Build the graph with specialized delivery logic\n",
    "\n",
    "### Graph Design:\n",
    "- **Delivery Focus**: System message emphasizing delivery optimization\n",
    "- **Multi-tool Usage**: Agent can use multiple tools in sequence\n",
    "- **Context Awareness**: Maintains delivery context throughout conversation\n",
    "\n",
    "**Expected Output:** A custom delivery optimization graph ready for compilation"
   ]
  },
  {
   "cell_type": "code",
   "execution_count": null,
   "id": "29f37873",
   "metadata": {},
   "outputs": [],
   "source": [
    "# TODO: Import LangGraph components\n",
    "\n",
    "\n",
    "# TODO: Import SystemMessage\n",
    "\n",
    "\n",
    "# TODO: Create delivery tools list\n",
    "\n",
    "\n",
    "# TODO: Create StateGraph and bind tools to LLM\n",
    "\n",
    "\n",
    "# TODO: Define delivery chatbot function with delivery-specific system message\n",
    "def delivery_chatbot(state: MessagesState):\n",
    "    # TODO: Add delivery-focused system message\n",
    "    # TODO: Invoke LLM and return response\n",
    "    pass\n",
    "\n",
    "# TODO: Define route_delivery_tools function\n",
    "def route_delivery_tools(state: MessagesState):\n",
    "    # TODO: Check for tool calls and route accordingly\n",
    "    pass\n",
    "\n",
    "# TODO: Add nodes and edges to the graph\n",
    "\n",
    "\n",
    "# TODO: Compile the delivery graph"
   ]
  },
  {
   "cell_type": "markdown",
   "id": "cb740874",
   "metadata": {},
   "source": [
    "## Step 7: Visualize the Delivery Graph\n",
    "\n",
    "### Your Task:\n",
    "Generate a visual representation of the delivery optimization workflow."
   ]
  },
  {
   "cell_type": "code",
   "execution_count": null,
   "id": "0d072b1b",
   "metadata": {},
   "outputs": [],
   "source": [
    "# TODO: Visualize the delivery graph structure"
   ]
  },
  {
   "cell_type": "markdown",
   "id": "6fe6323b",
   "metadata": {},
   "source": [
    "## Step 8: Test Delivery Optimization Scenarios\n",
    "\n",
    "### Your Task:\n",
    "Test the system with realistic delivery optimization scenarios."
   ]
  },
  {
   "cell_type": "code",
   "execution_count": null,
   "id": "a01b2295",
   "metadata": {},
   "outputs": [],
   "source": [
    "# TODO: Test basic delivery inquiry\n",
    "config = {\"configurable\": {\"thread_id\": \"delivery-thread-1\"}}\n",
    "input_message = \"What deliveries are scheduled for today and are there any high-priority orders?\"\n",
    "\n",
    "# TODO: Invoke the delivery graph and print response"
   ]
  },
  {
   "cell_type": "markdown",
   "id": "ff480a2c",
   "metadata": {},
   "source": [
    "## Step 9: Test Traffic and Route Optimization\n",
    "\n",
    "### Your Task:\n",
    "Test the system's ability to handle traffic-related optimization."
   ]
  },
  {
   "cell_type": "code",
   "execution_count": null,
   "id": "67638637",
   "metadata": {},
   "outputs": [],
   "source": [
    "# TODO: Test traffic optimization scenario\n",
    "input_message = \"Check current traffic conditions and suggest route optimizations for downtown deliveries.\"\n",
    "\n",
    "# TODO: Invoke the delivery graph and print response"
   ]
  },
  {
   "cell_type": "markdown",
   "id": "24bcb4c2",
   "metadata": {},
   "source": [
    "## Step 10: Test Customer Service Integration"
   ]
  },
  {
   "cell_type": "code",
   "execution_count": null,
   "id": "2f2594cf",
   "metadata": {},
   "outputs": [],
   "source": [
    "# TODO: Test customer feedback analysis\n",
    "input_message = \"Analyze recent customer feedback and identify any delivery issues that need immediate attention.\"\n",
    "\n",
    "# TODO: Invoke the delivery graph and print response"
   ]
  },
  {
   "cell_type": "markdown",
   "id": "d022057e",
   "metadata": {},
   "source": [
    "## Step 11: Test Performance Analytics"
   ]
  },
  {
   "cell_type": "code",
   "execution_count": null,
   "id": "906dfed4",
   "metadata": {},
   "outputs": [],
   "source": [
    "# TODO: Test performance analysis\n",
    "input_message = \"Provide a performance analysis of our delivery operations and suggest improvements.\"\n",
    "\n",
    "# TODO: Invoke the delivery graph and print response"
   ]
  },
  {
   "cell_type": "markdown",
   "id": "2e821842",
   "metadata": {},
   "source": [
    "## Step 12: Create ReAct Delivery Agent\n",
    "\n",
    "### Your Task:\n",
    "Build a ReAct agent version of the delivery optimizer for comparison.\n",
    "\n",
    "**Steps:**\n",
    "1. Import `create_react_agent` from `langgraph.prebuilt`\n",
    "2. Import `MemorySaver` from `langgraph.checkpoint.memory`\n",
    "3. Create a ReAct agent with memory\n",
    "4. Test with the same scenarios\n",
    "\n",
    "**Expected Output:** A ReAct-based delivery agent for comparison with the custom graph"
   ]
  },
  {
   "cell_type": "code",
   "execution_count": null,
   "id": "48a90d8e",
   "metadata": {},
   "outputs": [],
   "source": [
    "# TODO: Import create_react_agent and MemorySaver\n",
    "\n",
    "\n",
    "# TODO: Create memory instance\n",
    "\n",
    "\n",
    "# TODO: Create ReAct delivery agent\n",
    "\n",
    "\n",
    "# TODO: Test the ReAct agent"
   ]
  },
  {
   "cell_type": "markdown",
   "id": "3a47b96b",
   "metadata": {},
   "source": [
    "## Step 13: Visualize ReAct Agent"
   ]
  },
  {
   "cell_type": "code",
   "execution_count": null,
   "id": "548f0ab9",
   "metadata": {},
   "outputs": [],
   "source": [
    "# TODO: Visualize the ReAct delivery agent structure"
   ]
  },
  {
   "cell_type": "markdown",
   "id": "361e4f27",
   "metadata": {},
   "source": [
    "## Step 14: Complex Multi-Step Delivery Scenario"
   ]
  },
  {
   "cell_type": "code",
   "execution_count": null,
   "id": "4b5c94ed",
   "metadata": {},
   "outputs": [],
   "source": [
    "# TODO: Test complex scenario requiring multiple tools\n",
    "complex_scenario = \"\"\"\n",
    "We have a high-priority customer complaint about a delayed delivery. \n",
    "The customer ordered an urgent medical supply that was supposed to arrive 2 hours ago. \n",
    "Please:\n",
    "1. Check the current status of this delivery\n",
    "2. Analyze what went wrong using traffic and performance data\n",
    "3. Provide an updated ETA and alternative solutions\n",
    "4. Suggest process improvements to prevent similar issues\n",
    "\"\"\"\n",
    "\n",
    "# TODO: Use streaming to show the agent's step-by-step reasoning"
   ]
  },
  {
   "cell_type": "markdown",
   "id": "949c1622",
   "metadata": {},
   "source": [
    "## 🎉 Congratulations!\n",
    "\n",
    "You've successfully built a sophisticated **Last-Mile Delivery Optimizer** using LangGraph!\n",
    "\n",
    "### What You've Accomplished:\n",
    "1. ✅ **Specialized Tools**: Created four domain-specific tools for delivery optimization\n",
    "2. ✅ **Custom Workflow**: Built a delivery-focused LangGraph workflow\n",
    "3. ✅ **ReAct Agent**: Implemented a reasoning-and-acting delivery agent\n",
    "4. ✅ **Multi-Source RAG**: Integrated delivery schedules, traffic, feedback, and performance data\n",
    "5. ✅ **Complex Scenarios**: Handled multi-step delivery optimization problems\n",
    "6. ✅ **Real-World Application**: Created a system that could be deployed in production\n",
    "\n",
    "### Key Features Implemented:\n",
    "- **🚚 Route Optimization**: Traffic-aware delivery routing\n",
    "- **⏰ Priority Management**: Handling urgent and high-value deliveries\n",
    "- **📞 Customer Service**: Proactive issue resolution\n",
    "- **📊 Performance Analytics**: Data-driven optimization insights\n",
    "- **🤖 Autonomous Decision Making**: AI-powered delivery management\n",
    "\n",
    "### Real-World Applications:\n",
    "- **E-commerce Logistics**: Amazon, FedEx, UPS delivery optimization\n",
    "- **Food Delivery**: DoorDash, Uber Eats route planning\n",
    "- **Medical Supplies**: Urgent healthcare delivery management\n",
    "- **Retail Operations**: Store-to-customer delivery optimization\n",
    "\n",
    "### Next Steps:\n",
    "- Integrate with real delivery APIs (Google Maps, route optimization services)\n",
    "- Add real-time tracking and notifications\n",
    "- Implement machine learning for predictive optimization\n",
    "- Scale to handle thousands of concurrent deliveries\n",
    "\n",
    "Outstanding work on building an enterprise-grade delivery optimization system! 🚀📦"
   ]
  }
 ],
 "metadata": {
  "language_info": {
   "name": "python"
  }
 },
 "nbformat": 4,
 "nbformat_minor": 5
}
