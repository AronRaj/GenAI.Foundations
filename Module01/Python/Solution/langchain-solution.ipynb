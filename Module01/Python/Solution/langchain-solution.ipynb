{
 "cells": [
  {
   "cell_type": "markdown",
   "id": "6bd1b039",
   "metadata": {},
   "source": [
    "# LangChain Exercise: Getting Started with Azure OpenAI\n",
    "\n",
    "In this exercise, you'll learn how to:\n",
    "1. Set up environment variables securely\n",
    "2. Initialize an Azure OpenAI chat model using LangChain\n",
    "3. Send simple prompts to the model\n",
    "4. Work with system and user messages\n",
    "\n",
    "Follow the instructions in each cell and complete the code where indicated."
   ]
  },
  {
   "cell_type": "markdown",
   "id": "012faaa2",
   "metadata": {},
   "source": [
    "## Step 1: Load Environment Variables\n",
    "\n",
    "**Objective**: Load your Azure OpenAI API key from environment variables or prompt the user to enter it.\n",
    "\n",
    "**Instructions**:\n",
    "- Import the necessary libraries: `dotenv`, `getpass`, and `os`\n",
    "- Use `load_dotenv()` to load variables from a `.env` file (if it exists)\n",
    "- Check if `AZURE_OPENAI_API_KEY` is set in the environment\n",
    "- If not set, use `getpass.getpass()` to securely prompt the user for the API key\n",
    "\n",
    "**Hint**: The `getpass` module hides the input when typing passwords or API keys."
   ]
  },
  {
   "cell_type": "code",
   "execution_count": 1,
   "id": "afe46b34",
   "metadata": {},
   "outputs": [],
   "source": [
    "from dotenv import load_dotenv\n",
    "import getpass\n",
    "import os\n",
    "\n",
    "# Load environment variables from a .env file if present. This helps in local dev where env vars aren't set.\n",
    "load_dotenv()\n",
    "\n",
    "# Prompt for API key only if not present in environment variables after loading .env\n",
    "if not os.environ.get(\"AZURE_OPENAI_API_KEY\"):\n",
    "    os.environ[\"AZURE_OPENAI_API_KEY\"] = getpass.getpass(\"Enter your Azure OpenAI API key: \")"
   ]
  },
  {
   "cell_type": "markdown",
   "id": "bfc347dd",
   "metadata": {},
   "source": [
    "## Step 2: Initialize the Azure OpenAI Chat Model\n",
    "\n",
    "**Objective**: Create an instance of `AzureChatOpenAI` to interact with Azure OpenAI services.\n",
    "\n",
    "**Instructions**:\n",
    "- Import `AzureChatOpenAI` from `langchain_openai`\n",
    "- Create a model instance with the following parameters:\n",
    "  - `azure_endpoint`: Your Azure OpenAI endpoint URL\n",
    "  - `api_key`: Use the API key from environment variables\n",
    "  - `model`: The deployment name (e.g., \"gpt-4o\")\n",
    "  - `api_version`: The API version (e.g., \"2024-12-01-preview\")\n",
    "  - `temperature`: Set to 0 for deterministic outputs\n",
    "  - `top_p`: Set to 0.5\n",
    "\n",
    "**Note**: The `temperature` parameter controls randomness (0 = deterministic, 1 = very random). The `top_p` parameter controls diversity via nucleus sampling."
   ]
  },
  {
   "cell_type": "code",
   "execution_count": 2,
   "id": "afe46b34",
   "metadata": {},
   "outputs": [],
   "source": [
    "from langchain_openai import AzureChatOpenAI\n",
    "\n",
    "model = AzureChatOpenAI(\n",
    "    azure_endpoint=\"https://aoi-ext-eus-aiml-profx-01.openai.azure.com/\",\n",
    "    api_key=os.environ[\"AZURE_OPENAI_API_KEY\"],\n",
    "    model=\"gpt-4o\",\n",
    "    api_version=\"2024-12-01-preview\",\n",
    "    temperature=0,\n",
    "    top_p=0.5,\n",
    ")"
   ]
  },
  {
   "cell_type": "markdown",
   "id": "16e451b0",
   "metadata": {},
   "source": [
    "## Step 3: Send a Simple Prompt\n",
    "\n",
    "**Objective**: Test your model by sending a simple text prompt.\n",
    "\n",
    "**Instructions**:\n",
    "- Use the `invoke()` method on your model instance\n",
    "- Pass a simple string message like \"Hello, world!\"\n",
    "- Observe the response from the model\n",
    "\n",
    "**Expected Output**: The model should return an `AIMessage` object with a greeting response."
   ]
  },
  {
   "cell_type": "code",
   "execution_count": 3,
   "id": "61c48f7e",
   "metadata": {},
   "outputs": [
    {
     "data": {
      "text/plain": [
       "AIMessage(content='Hello, world! 🌍👋 How can I assist you today?', additional_kwargs={'refusal': None}, response_metadata={'token_usage': {'completion_tokens': 16, 'prompt_tokens': 11, 'total_tokens': 27, 'completion_tokens_details': {'accepted_prediction_tokens': 0, 'audio_tokens': 0, 'reasoning_tokens': 0, 'rejected_prediction_tokens': 0}, 'prompt_tokens_details': {'audio_tokens': 0, 'cached_tokens': 0}}, 'model_name': 'gpt-4o-2024-11-20', 'system_fingerprint': 'fp_ee1d74bde0', 'id': 'chatcmpl-CNSlU1TlXzB90eYoeQ5TzX1hKgSpL', 'service_tier': None, 'prompt_filter_results': [{'prompt_index': 0, 'content_filter_results': {'hate': {'filtered': False, 'severity': 'safe'}, 'jailbreak': {'filtered': False, 'detected': False}, 'self_harm': {'filtered': False, 'severity': 'safe'}, 'sexual': {'filtered': False, 'severity': 'safe'}, 'violence': {'filtered': False, 'severity': 'safe'}}}], 'finish_reason': 'stop', 'logprobs': None, 'content_filter_results': {'hate': {'filtered': False, 'severity': 'safe'}, 'protected_material_code': {'filtered': False, 'detected': False}, 'protected_material_text': {'filtered': False, 'detected': False}, 'self_harm': {'filtered': False, 'severity': 'safe'}, 'sexual': {'filtered': False, 'severity': 'safe'}, 'violence': {'filtered': False, 'severity': 'safe'}}}, id='run--7c9103c6-1cd3-4677-b061-87e2546c9131-0', usage_metadata={'input_tokens': 11, 'output_tokens': 16, 'total_tokens': 27, 'input_token_details': {'audio': 0, 'cache_read': 0}, 'output_token_details': {'audio': 0, 'reasoning': 0}})"
      ]
     },
     "execution_count": 3,
     "metadata": {},
     "output_type": "execute_result"
    }
   ],
   "source": [
    "model.invoke(\"Hello, world!\")"
   ]
  },
  {
   "cell_type": "markdown",
   "id": "ee471cb8",
   "metadata": {},
   "source": [
    "## Step 4: Working with System and User Messages\n",
    "\n",
    "**Objective**: Learn how to structure conversations with system and user messages.\n",
    "\n",
    "**Instructions**:\n",
    "- Import `HumanMessage` and `SystemMessage` from `langchain_core.messages`\n",
    "- Create a list of messages:\n",
    "  - A `SystemMessage` that instructs the model (e.g., \"Translate the following from English into Italian\")\n",
    "  - A `HumanMessage` with the user's input (e.g., \"hi!\")\n",
    "- Invoke the model with this messages list\n",
    "\n",
    "**Key Concept**: \n",
    "- **SystemMessage**: Sets the behavior or role of the AI (e.g., translator, teacher, assistant)\n",
    "- **HumanMessage**: Represents the user's input or question\n",
    "\n",
    "**Expected Output**: The model should translate \"hi!\" to Italian (\"ciao!\" or similar)."
   ]
  },
  {
   "cell_type": "code",
   "execution_count": 4,
   "id": "66e4055a",
   "metadata": {},
   "outputs": [
    {
     "data": {
      "text/plain": [
       "AIMessage(content='Ciao!', additional_kwargs={'refusal': None}, response_metadata={'token_usage': {'completion_tokens': 4, 'prompt_tokens': 20, 'total_tokens': 24, 'completion_tokens_details': {'accepted_prediction_tokens': 0, 'audio_tokens': 0, 'reasoning_tokens': 0, 'rejected_prediction_tokens': 0}, 'prompt_tokens_details': {'audio_tokens': 0, 'cached_tokens': 0}}, 'model_name': 'gpt-4o-2024-11-20', 'system_fingerprint': 'fp_ee1d74bde0', 'id': 'chatcmpl-CNSlX3hGSQdPJ02iyhmoIi3mSBKUP', 'service_tier': None, 'prompt_filter_results': [{'prompt_index': 0, 'content_filter_results': {'hate': {'filtered': False, 'severity': 'safe'}, 'jailbreak': {'filtered': False, 'detected': False}, 'self_harm': {'filtered': False, 'severity': 'safe'}, 'sexual': {'filtered': False, 'severity': 'safe'}, 'violence': {'filtered': False, 'severity': 'safe'}}}], 'finish_reason': 'stop', 'logprobs': None, 'content_filter_results': {'hate': {'filtered': False, 'severity': 'safe'}, 'protected_material_code': {'filtered': False, 'detected': False}, 'protected_material_text': {'filtered': False, 'detected': False}, 'self_harm': {'filtered': False, 'severity': 'safe'}, 'sexual': {'filtered': False, 'severity': 'safe'}, 'violence': {'filtered': False, 'severity': 'safe'}}}, id='run--fcae86a4-07a7-406c-ab7f-a525183cd7b3-0', usage_metadata={'input_tokens': 20, 'output_tokens': 4, 'total_tokens': 24, 'input_token_details': {'audio': 0, 'cache_read': 0}, 'output_token_details': {'audio': 0, 'reasoning': 0}})"
      ]
     },
     "execution_count": 4,
     "metadata": {},
     "output_type": "execute_result"
    }
   ],
   "source": [
    "from langchain_core.messages import HumanMessage, SystemMessage\n",
    "\n",
    "messages = [\n",
    "    SystemMessage(content=\"Translate the following from English into Italian\"),\n",
    "    HumanMessage(content=\"hi!\"),\n",
    "]\n",
    "\n",
    "model.invoke(messages)"
   ]
  }
 ],
 "metadata": {
  "kernelspec": {
   "display_name": ".venv-module01",
   "language": "python",
   "name": "python3"
  },
  "language_info": {
   "codemirror_mode": {
    "name": "ipython",
    "version": 3
   },
   "file_extension": ".py",
   "mimetype": "text/x-python",
   "name": "python",
   "nbconvert_exporter": "python",
   "pygments_lexer": "ipython3",
   "version": "3.13.7"
  }
 },
 "nbformat": 4,
 "nbformat_minor": 5
}
