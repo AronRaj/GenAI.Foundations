{
 "cells": [
  {
   "cell_type": "markdown",
   "id": "880333ab",
   "metadata": {},
   "source": [
    "# LangChain Exercise: Getting Started with Azure OpenAI\n",
    "\n",
    "In this exercise, you'll learn how to:\n",
    "1. Set up environment variables securely\n",
    "2. Initialize an Azure OpenAI chat model using LangChain\n",
    "3. Send simple prompts to the model\n",
    "4. Work with system and user messages\n",
    "\n",
    "Follow the instructions in each cell and complete the code where indicated."
   ]
  },
  {
   "cell_type": "markdown",
   "id": "21fd9df1",
   "metadata": {},
   "source": [
    "## Step 1: Load Environment Variables\n",
    "\n",
    "**Objective**: Load your Azure OpenAI API key from environment variables or prompt the user to enter it.\n",
    "\n",
    "**Instructions**:\n",
    "- Import the necessary libraries: `dotenv`, `getpass`, and `os`\n",
    "- Use `load_dotenv()` to load variables from a `.env` file (if it exists)\n",
    "- Check if `AZURE_OPENAI_API_KEY` is set in the environment\n",
    "- If not set, use `getpass.getpass()` to securely prompt the user for the API key\n",
    "\n",
    "**Hint**: The `getpass` module hides the input when typing passwords or API keys."
   ]
  },
  {
   "cell_type": "code",
   "execution_count": null,
   "id": "54f363fb",
   "metadata": {},
   "outputs": [],
   "source": [
    "# TODO: Import required libraries (dotenv, getpass, os)\n",
    "\n",
    "\n",
    "# TODO: Load environment variables from .env file\n",
    "\n",
    "\n",
    "# TODO: Check if AZURE_OPENAI_API_KEY exists, if not prompt user to enter it\n"
   ]
  },
  {
   "cell_type": "markdown",
   "id": "7670ad0a",
   "metadata": {},
   "source": [
    "## Step 2: Initialize the Azure OpenAI Chat Model\n",
    "\n",
    "**Objective**: Create an instance of `AzureChatOpenAI` to interact with Azure OpenAI services.\n",
    "\n",
    "**Instructions**:\n",
    "- Import `AzureChatOpenAI` from `langchain_openai`\n",
    "- Create a model instance with the following parameters:\n",
    "  - `azure_endpoint`: Your Azure OpenAI endpoint URL\n",
    "  - `api_key`: Use the API key from environment variables\n",
    "  - `model`: The deployment name (e.g., \"gpt-4o\")\n",
    "  - `api_version`: The API version (e.g., \"2024-12-01-preview\")\n",
    "  - `temperature`: Set to 0 for deterministic outputs\n",
    "  - `top_p`: Set to 0.5\n",
    "\n",
    "**Note**: The `temperature` parameter controls randomness (0 = deterministic, 1 = very random). The `top_p` parameter controls diversity via nucleus sampling."
   ]
  },
  {
   "cell_type": "code",
   "execution_count": null,
   "id": "c33247d9",
   "metadata": {},
   "outputs": [],
   "source": [
    "# TODO: Import AzureChatOpenAI from langchain_openai\n",
    "\n",
    "\n",
    "# TODO: Create an AzureChatOpenAI model instance with the required parameters\n",
    "model = None  # Replace with your implementation\n"
   ]
  },
  {
   "cell_type": "markdown",
   "id": "57da7cf7",
   "metadata": {},
   "source": [
    "## Step 3: Send a Simple Prompt\n",
    "\n",
    "**Objective**: Test your model by sending a simple text prompt.\n",
    "\n",
    "**Instructions**:\n",
    "- Use the `invoke()` method on your model instance\n",
    "- Pass a simple string message like \"Hello, world!\"\n",
    "- Observe the response from the model\n",
    "\n",
    "**Expected Output**: The model should return an `AIMessage` object with a greeting response."
   ]
  },
  {
   "cell_type": "code",
   "execution_count": null,
   "id": "68840054",
   "metadata": {},
   "outputs": [],
   "source": [
    "# TODO: Invoke the model with a simple greeting message\n"
   ]
  },
  {
   "cell_type": "markdown",
   "id": "0b7f3aaa",
   "metadata": {},
   "source": [
    "## Step 4: Working with System and User Messages\n",
    "\n",
    "**Objective**: Learn how to structure conversations with system and user messages.\n",
    "\n",
    "**Instructions**:\n",
    "- Import `HumanMessage` and `SystemMessage` from `langchain_core.messages`\n",
    "- Create a list of messages:\n",
    "  - A `SystemMessage` that instructs the model (e.g., \"Translate the following from English into Italian\")\n",
    "  - A `HumanMessage` with the user's input (e.g., \"hi!\")\n",
    "- Invoke the model with this messages list\n",
    "\n",
    "**Key Concept**: \n",
    "- **SystemMessage**: Sets the behavior or role of the AI (e.g., translator, teacher, assistant)\n",
    "- **HumanMessage**: Represents the user's input or question\n",
    "\n",
    "**Expected Output**: The model should translate \"hi!\" to Italian (\"ciao!\" or similar)."
   ]
  },
  {
   "cell_type": "code",
   "execution_count": null,
   "id": "ae5f9d3d",
   "metadata": {},
   "outputs": [],
   "source": [
    "# TODO: Import HumanMessage and SystemMessage from langchain_core.messages\n",
    "\n",
    "\n",
    "# TODO: Create a list of messages with a SystemMessage and HumanMessage\n",
    "messages = [\n",
    "    # Add your SystemMessage here\n",
    "    # Add your HumanMessage here\n",
    "]\n",
    "\n",
    "# TODO: Invoke the model with the messages list\n"
   ]
  }
 ],
 "metadata": {
  "language_info": {
   "name": "python"
  }
 },
 "nbformat": 4,
 "nbformat_minor": 5
}
